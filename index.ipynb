{
 "cells": [
  {
   "cell_type": "markdown",
   "metadata": {},
   "source": [
    "# Hyperparameter Tuning and Pruning in Decision Trees - Lab\n",
    "\n",
    "## Introduction\n",
    "\n",
    "In this lab, you will use the titanic dataset to see the impact of tree pruning and hyperparameter tuning on the predictive performance of a decision tree classifier. Pruning reduces the size of decision trees by removing nodes of the tree that do not provide much predictive power to classify instances. Decision trees are the most susceptible out of all the machine learning algorithms to overfitting and effective pruning can reduce this likelihood. \n",
    "\n",
    "## Objectives\n",
    "\n",
    "In this lab you will: \n",
    "\n",
    "- Determine the optimal hyperparameters for a decision tree model and evaluate the model performance"
   ]
  },
  {
   "cell_type": "markdown",
   "metadata": {},
   "source": [
    "## Import necessary libraries\n",
    "\n",
    "Let's first import the libraries you'll need for this lab. "
   ]
  },
  {
   "cell_type": "code",
   "execution_count": 1,
   "metadata": {},
   "outputs": [],
   "source": [
    "import numpy as np\n",
    "import pandas as pd\n",
    "import matplotlib as mpl\n",
    "import matplotlib.pyplot as plt\n",
    "from sklearn.model_selection import train_test_split\n",
    "from sklearn.tree import DecisionTreeClassifier\n",
    "from sklearn.metrics import roc_curve, auc\n",
    "plt.style.use('seaborn')"
   ]
  },
  {
   "cell_type": "markdown",
   "metadata": {},
   "source": [
    "## Import the data\n",
    "\n",
    "The titanic dataset, available in `'titanic.csv'`, is all cleaned up and preprocessed for you so that you can focus on pruning and optimization. Import the dataset and print the first five rows of the data: "
   ]
  },
  {
   "cell_type": "code",
   "execution_count": 2,
   "metadata": {},
   "outputs": [],
   "source": [
    "# Import the data\n",
    "df = pd.read_csv(\"titanic.csv\")\n"
   ]
  },
  {
   "cell_type": "markdown",
   "metadata": {},
   "source": [
    "## Create training and test sets\n",
    "\n",
    "- Assign the `'Survived'` column to `y` \n",
    "- Drop the `'Survived'` and `'PassengerId'` columns from `df`, and assign the resulting DataFrame to `X` \n",
    "- Split `X` and `y` into training and test sets. Assign 30% to the test set and set the `random_state` to `SEED` "
   ]
  },
  {
   "cell_type": "code",
   "execution_count": 4,
   "metadata": {},
   "outputs": [],
   "source": [
    "# Create X and y \n",
    "y = df[\"Survived\"]\n",
    "X = df.drop(columns = [\"Survived\", \"PassengerId\"], axis = 1)\n",
    "\n",
    "# Split into training and test sets\n",
    "SEED = 1\n",
    "X_train, X_test, y_train, y_test = train_test_split(X,y,\n",
    "                                                   test_size = 0.3,\n",
    "                                                   random_state = SEED)"
   ]
  },
  {
   "cell_type": "markdown",
   "metadata": {},
   "source": [
    "## Train a vanilla classifier\n",
    "\n",
    "__Note:__ The term \"vanilla\" is used for a machine learning algorithm with its default settings (no tweaking/tuning).\n",
    "\n",
    "- Instantiate a decision tree \n",
    "  - Use the `'entropy'` criterion and set the `random_state` to `SEED` \n",
    "- Fit this classifier to the training data "
   ]
  },
  {
   "cell_type": "code",
   "execution_count": 7,
   "metadata": {},
   "outputs": [
    {
     "data": {
      "text/plain": [
       "DecisionTreeClassifier(criterion='entropy', random_state=1)"
      ]
     },
     "execution_count": 7,
     "metadata": {},
     "output_type": "execute_result"
    }
   ],
   "source": [
    "# Train the classifier using training data\n",
    "dt = DecisionTreeClassifier(criterion = \"entropy\", random_state = SEED)\n",
    "dt.fit(X_train, y_train)"
   ]
  },
  {
   "cell_type": "markdown",
   "metadata": {},
   "source": [
    "## Make predictions \n",
    "- Create a set of predictions using the test set \n",
    "- Using `y_test` and `y_pred`, calculate the AUC (Area under the curve) to check the predictive performance"
   ]
  },
  {
   "cell_type": "code",
   "execution_count": 9,
   "metadata": {},
   "outputs": [
    {
     "data": {
      "text/plain": [
       "0.7367718101733446"
      ]
     },
     "execution_count": 9,
     "metadata": {},
     "output_type": "execute_result"
    }
   ],
   "source": [
    "# Make predictions using test set \n",
    "y_pred = dt.predict(X_test)\n",
    "\n",
    "# Check the AUC of predictions\n",
    "false_positive_rate, true_positive_rate, thresholds = roc_curve(y_test, y_pred)\n",
    "roc_auc = auc(false_positive_rate, true_positive_rate)\n",
    "roc_auc"
   ]
  },
  {
   "cell_type": "markdown",
   "metadata": {},
   "source": [
    "## Maximum Tree Depth\n",
    "\n",
    "Let's first check for the best depth parameter for our decision tree: \n",
    "\n",
    "- Create an array for `max_depth` values ranging from 1 - 32  \n",
    "- In a loop, train the classifier for each depth value (32 runs) \n",
    "- Calculate the training and test AUC for each run \n",
    "- Plot a graph to show under/overfitting and the optimal value \n",
    "- Interpret the results "
   ]
  },
  {
   "cell_type": "code",
   "execution_count": 18,
   "metadata": {},
   "outputs": [
    {
     "data": {
      "image/png": "[encoded data removed]",
      "text/plain": [
       "<Figure size 576x396 with 1 Axes>"
      ]
     },
     "metadata": {},
     "output_type": "display_data"
    }
   ],
   "source": [
    "# Identify the optimal tree depth for given data\n",
    "import seaborn as sns\n",
    "max_depth = range(1, 33)\n",
    "\n",
    "auc_values_test = []\n",
    "auc_values_train = []\n",
    "\n",
    "for i in max_depth:\n",
    "    dt = DecisionTreeClassifier(criterion = \"entropy\", \n",
    "                                random_state = SEED,\n",
    "                               max_depth = i)\n",
    "    \n",
    "    dt.fit(X_train, y_train)\n",
    "    \n",
    "    ## Test Prediction\n",
    "    y_pred_test = dt.predict(X_test)\n",
    "    fpr_test, tpr_test, thresholds_test = roc_curve(y_test, y_pred_test)\n",
    "    roc_auc_test = auc(fpr_test, tpr_test)\n",
    "    auc_values_test.append(roc_auc_test)\n",
    "    \n",
    "    \n",
    "    ## Train Prediction\n",
    "    y_pred_train = dt.predict(X_train)\n",
    "    fpr_train, tpr_train, thresholds_train = roc_curve(y_train, y_pred_train)\n",
    "    roc_auc_train = auc(fpr_train, tpr_train)\n",
    "    auc_values_train.append(roc_auc_train)\n",
    "#     sns.lineplot(x = i, y = roc_auc)\n",
    "\n",
    "sns.lineplot(x = range(1, 33), y = auc_values_test, color = \"r\", label = \"test\")\n",
    "sns.lineplot(x = range(1, 33), y = auc_values_train, color = \"blue\", label = \"train\");"
   ]
  },
  {
   "cell_type": "code",
   "execution_count": 28,
   "metadata": {},
   "outputs": [],
   "source": [
    "# Your observations here\n",
    "\n",
    "## We see overfitting for values more than 3 because the AUCs converges fast\n",
    "## Around depth 2 we have minimum AUCs and since for test set for depths\n",
    "## between 3 and 15 we have almost a flat diagram with some fluctuations\n",
    "## we should find the maximum depth within this range. However, for max_depth\n",
    "## more than 3 the diagrams converge rapidly and we can conclude that the\n",
    "## optimal max_depth is 3\n",
    "\n",
    "\n",
    "\n",
    "# Training error decreases with increasing tree depth - clear sign of overfitting \n",
    "# Test error increases after depth=3 - nothing more to learn from deeper trees\n",
    "# (some fluctuations, but not stable)\n",
    "# Training and test errors rise rapidly between the depths of 2 and 3\n",
    "# Optimal value seen here is 3"
   ]
  },
  {
   "cell_type": "markdown",
   "metadata": {},
   "source": [
    "## Minimum Sample Split\n",
    "\n",
    "Now check for the best `min_samples_splits` parameter for our decision tree \n",
    "\n",
    "- Create an array for `min_sample_splits` values ranging from 0.1 - 1 with an increment of 0.1 \n",
    "- In a loop, train the classifier for each `min_samples_splits` value (10 runs) \n",
    "- Calculate the training and test AUC for each run \n",
    "- Plot a graph to show under/overfitting and the optimal value \n",
    "- Interpret the results"
   ]
  },
  {
   "cell_type": "code",
   "execution_count": 29,
   "metadata": {},
   "outputs": [
    {
     "data": {
      "image/png": "[encoded data removed]",
      "text/plain": [
       "<Figure size 576x396 with 1 Axes>"
      ]
     },
     "metadata": {},
     "output_type": "display_data"
    }
   ],
   "source": [
    "# Identify the optimal min-samples-split for given data\n",
    "import seaborn as sns\n",
    "min_sample_splits = np.linspace(0.1, 1, num = 10)\n",
    "\n",
    "auc_values_test = []\n",
    "auc_values_train = []\n",
    "\n",
    "for i in min_sample_splits:\n",
    "    dt = DecisionTreeClassifier(criterion = \"entropy\", \n",
    "                                random_state = SEED,\n",
    "                              min_samples_split = i)\n",
    "    \n",
    "    dt.fit(X_train, y_train)\n",
    "    \n",
    "    ## Test Prediction\n",
    "    y_pred_test = dt.predict(X_test)\n",
    "    fpr_test, tpr_test, thresholds_test = roc_curve(y_test, y_pred_test)\n",
    "    roc_auc_test = auc(fpr_test, tpr_test)\n",
    "    auc_values_test.append(roc_auc_test)\n",
    "    \n",
    "    \n",
    "    ## Train Prediction\n",
    "    y_pred_train = dt.predict(X_train)\n",
    "    fpr_train, tpr_train, thresholds_train = roc_curve(y_train, y_pred_train)\n",
    "    roc_auc_train = auc(fpr_train, tpr_train)\n",
    "    auc_values_train.append(roc_auc_train)\n",
    "#     sns.lineplot(x = i, y = roc_auc)\n",
    "\n",
    "sns.lineplot(x = min_sample_splits, y = auc_values_test, \n",
    "             color = \"r\", label = \"test\")\n",
    "sns.lineplot(x = min_sample_splits, y = auc_values_train, \n",
    "             color = \"blue\", label = \"train\");\n",
    "\n"
   ]
  },
  {
   "cell_type": "code",
   "execution_count": 30,
   "metadata": {},
   "outputs": [],
   "source": [
    "# Your observations here\n",
    "\n",
    "\n",
    "\n",
    "\n",
    "# AUC for both test and train data stabilizes at 0.7 \n",
    "# Further increase in minimum sample split does not improve learning "
   ]
  },
  {
   "cell_type": "markdown",
   "metadata": {},
   "source": [
    "## Minimum Sample Leafs\n",
    "\n",
    "Now check for the best `min_samples_leafs` parameter value for our decision tree \n",
    "\n",
    "- Create an array for `min_samples_leafs` values ranging from 0.1 - 0.5 with an increment of 0.1 \n",
    "- In a loop, train the classifier for each `min_samples_leafs` value (5 runs) \n",
    "- Calculate the training and test AUC for each run \n",
    "- Plot a graph to show under/overfitting and the optimal value \n",
    "- Interpret the results"
   ]
  },
  {
   "cell_type": "code",
   "execution_count": 31,
   "metadata": {},
   "outputs": [
    {
     "data": {
      "image/png": "[encoded data removed]",
      "text/plain": [
       "<Figure size 576x396 with 1 Axes>"
      ]
     },
     "metadata": {},
     "output_type": "display_data"
    }
   ],
   "source": [
    "# Calculate the optimal value for minimum sample leafs\n",
    "import seaborn as sns\n",
    "min_samples_leafs = np.linspace(0.1, 0.5, num = 5)\n",
    "\n",
    "auc_values_test = []\n",
    "auc_values_train = []\n",
    "\n",
    "for i in min_samples_leafs:\n",
    "    dt = DecisionTreeClassifier(criterion = \"entropy\", \n",
    "                                random_state = SEED,\n",
    "                              min_samples_leaf = i)\n",
    "    \n",
    "    dt.fit(X_train, y_train)\n",
    "    \n",
    "    ## Test Prediction\n",
    "    y_pred_test = dt.predict(X_test)\n",
    "    fpr_test, tpr_test, thresholds_test = roc_curve(y_test, y_pred_test)\n",
    "    roc_auc_test = auc(fpr_test, tpr_test)\n",
    "    auc_values_test.append(roc_auc_test)\n",
    "    \n",
    "    \n",
    "    ## Train Prediction\n",
    "    y_pred_train = dt.predict(X_train)\n",
    "    fpr_train, tpr_train, thresholds_train = roc_curve(y_train, y_pred_train)\n",
    "    roc_auc_train = auc(fpr_train, tpr_train)\n",
    "    auc_values_train.append(roc_auc_train)\n",
    "#     sns.lineplot(x = i, y = roc_auc)\n",
    "\n",
    "sns.lineplot(x = min_samples_leafs, y = auc_values_test, \n",
    "             color = \"r\", label = \"test\")\n",
    "sns.lineplot(x = min_samples_leafs, y = auc_values_train, \n",
    "             color = \"blue\", label = \"train\");\n",
    "\n"
   ]
  },
  {
   "cell_type": "code",
   "execution_count": null,
   "metadata": {},
   "outputs": [],
   "source": [
    "# Your observations here \n",
    "\n",
    "\n",
    "\n",
    "# AUC gives best value between 0.2 and 0.3 for both test and training sets \n",
    "# The accuracy drops down if we continue to increase the parameter value \n",
    "\n",
    "\n"
   ]
  },
  {
   "cell_type": "markdown",
   "metadata": {},
   "source": [
    "## Maximum Features\n",
    "\n",
    "Now check for the best `max_features` parameter value for our decision tree \n",
    "\n",
    "- Create an array for `max_features` values ranging from 1 - 12 (1 feature vs all)\n",
    "- In a loop, train the classifier for each `max_features` value (12 runs) \n",
    "- Calculate the training and test AUC for each run \n",
    "- Plot a graph to show under/overfitting and the optimal value \n",
    "- Interpret the results"
   ]
  },
  {
   "cell_type": "code",
   "execution_count": 32,
   "metadata": {},
   "outputs": [
    {
     "data": {
      "image/png": "[encoded data removed]",
      "text/plain": [
       "<Figure size 576x396 with 1 Axes>"
      ]
     },
     "metadata": {},
     "output_type": "display_data"
    }
   ],
   "source": [
    "# Find the best value for optimal maximum feature size\n",
    "import seaborn as sns\n",
    "max_features = list(range(1, X_train.shape[1]))\n",
    "\n",
    "auc_values_test = []\n",
    "auc_values_train = []\n",
    "\n",
    "for i in max_features:\n",
    "    dt = DecisionTreeClassifier(criterion = \"entropy\", \n",
    "                                random_state = SEED,\n",
    "                              max_features = i)\n",
    "    \n",
    "    dt.fit(X_train, y_train)\n",
    "    \n",
    "    ## Test Prediction\n",
    "    y_pred_test = dt.predict(X_test)\n",
    "    fpr_test, tpr_test, thresholds_test = roc_curve(y_test, y_pred_test)\n",
    "    roc_auc_test = auc(fpr_test, tpr_test)\n",
    "    auc_values_test.append(roc_auc_test)\n",
    "    \n",
    "    \n",
    "    ## Train Prediction\n",
    "    y_pred_train = dt.predict(X_train)\n",
    "    fpr_train, tpr_train, thresholds_train = roc_curve(y_train, y_pred_train)\n",
    "    roc_auc_train = auc(fpr_train, tpr_train)\n",
    "    auc_values_train.append(roc_auc_train)\n",
    "\n",
    "\n",
    "sns.lineplot(x = max_features, y = auc_values_test, \n",
    "             color = \"r\", label = \"test\")\n",
    "sns.lineplot(x = max_features, y = auc_values_train, \n",
    "             color = \"blue\", label = \"train\");\n"
   ]
  },
  {
   "cell_type": "code",
   "execution_count": null,
   "metadata": {},
   "outputs": [],
   "source": [
    "# Your observations here\n",
    "\n",
    "\n",
    "# No clear effect on the training dataset - flat AUC \n",
    "# Some fluctuations in test AUC but not definitive enough to make a judgement\n",
    "# Highest AUC value seen at 6"
   ]
  },
  {
   "cell_type": "markdown",
   "metadata": {},
   "source": [
    "## Re-train the classifier with chosen values\n",
    "\n",
    "Now we will use the best values from each training phase above and feed it back to our classifier. Then we can see if there is any improvement in predictive performance. \n",
    "\n",
    "- Train the classifier with the optimal values identified \n",
    "- Compare the AUC of the new model with the earlier vanilla decision tree AUC \n",
    "- Interpret the results of the comparison"
   ]
  },
  {
   "cell_type": "code",
   "execution_count": 34,
   "metadata": {},
   "outputs": [
    {
     "data": {
      "text/plain": [
       "0.7443876101165104"
      ]
     },
     "execution_count": 34,
     "metadata": {},
     "output_type": "execute_result"
    }
   ],
   "source": [
    "# Train a classifier with optimal values identified above\n",
    "dt = DecisionTreeClassifier(\n",
    "                                criterion = \"entropy\", \n",
    "                                random_state = SEED,\n",
    "                                max_depth = 3,\n",
    "                                min_samples_leaf = 0.25,\n",
    "                                min_samples_split = 0.7,\n",
    "                                max_features = 6\n",
    "                                )\n",
    "\n",
    "dt.fit(X_train, y_train)\n",
    "    \n",
    "\n",
    "y_pred_test = dt.predict(X_test)\n",
    "\n",
    "false_positive_rate, true_positive_rate, thresholds = roc_curve(y_test, y_pred_test)\n",
    "roc_auc = auc(fpr_test, tpr_test)\n",
    "roc_auc"
   ]
  },
  {
   "cell_type": "code",
   "execution_count": 87,
   "metadata": {},
   "outputs": [
    {
     "name": "stdout",
     "output_type": "stream",
     "text": [
      "[1]\n",
      "0\n"
     ]
    }
   ],
   "source": [
    "X_test_copy = X_test.copy()\n",
    "y_test_copy = list(y_test)\n",
    "X_test_copy.reset_index(inplace = True, drop = True)\n",
    "y_test_copy\n",
    "i=6\n",
    "type(X_test_copy)\n",
    "\n",
    "y_pred_test = dt.predict(X_test_copy.iloc[i].to_frame().T)\n",
    "# X_test_copy.iloc[0].to_frame().T\n",
    "print(y_pred_test)\n",
    "print(y_test_copy[i])"
   ]
  },
  {
   "cell_type": "code",
   "execution_count": 35,
   "metadata": {},
   "outputs": [],
   "source": [
    "# Your observations here\n",
    "\n",
    "\n",
    "\n",
    "\n",
    "# We improved the AUC from 0.73 in the vanilla classifier to 0.74 with some tuning. \n",
    "# Due to randomness, results may slightly differ, there is some improvement in most cases. \n",
    "# With more complicated (and bigger) datasets, \n",
    "# we might see an even bigger improvement in AUC/accuracy of the classifier. "
   ]
  },
  {
   "cell_type": "markdown",
   "metadata": {},
   "source": [
    "In the next section, we shall talk about hyperparameter tuning using a technique called \"grid-search\" to make this process even more granular and decisive. "
   ]
  },
  {
   "cell_type": "markdown",
   "metadata": {},
   "source": [
    "## Summary \n",
    "\n",
    "In this lesson, we looked at tuning a decision tree classifier in order to avoid overfitting and increasing the generalization capabilities of the classifier. For the titanic dataset, we see that identifying optimal parameter values can result in some improvements towards predictions. This idea will be exploited further in upcoming lessons and labs. "
   ]
  }
 ],
 "metadata": {
  "kernelspec": {
   "display_name": "Python 3",
   "language": "python",
   "name": "python3"
  },
  "language_info": {
   "codemirror_mode": {
    "name": "ipython",
    "version": 3
   },
   "file_extension": ".py",
   "mimetype": "text/x-python",
   "name": "python",
   "nbconvert_exporter": "python",
   "pygments_lexer": "ipython3",
   "version": "3.8.5"
  },
  "latex_envs": {
   "LaTeX_envs_menu_present": true,
   "autoclose": false,
   "autocomplete": true,
   "bibliofile": "biblio.bib",
   "cite_by": "apalike",
   "current_citInitial": 1,
   "eqLabelWithNumbers": true,
   "eqNumInitial": 1,
   "hotkeys": {
    "equation": "Ctrl-E",
    "itemize": "Ctrl-I"
   },
   "labels_anchors": false,
   "latex_user_defs": false,
   "report_style_numbering": false,
   "user_envs_cfg": false
  },
  "toc": {
   "base_numbering": 1,
   "nav_menu": {},
   "number_sections": true,
   "sideBar": true,
   "skip_h1_title": false,
   "title_cell": "Table of Contents",
   "title_sidebar": "Contents",
   "toc_cell": false,
   "toc_position": {},
   "toc_section_display": true,
   "toc_window_display": false
  },
  "varInspector": {
   "cols": {
    "lenName": 16,
    "lenType": 16,
    "lenVar": 40
   },
   "kernels_config": {
    "python": {
     "delete_cmd_postfix": "",
     "delete_cmd_prefix": "del ",
     "library": "var_list.py",
     "varRefreshCmd": "print(var_dic_list())"
    },
    "r": {
     "delete_cmd_postfix": ") ",
     "delete_cmd_prefix": "rm(",
     "library": "var_list.r",
     "varRefreshCmd": "cat(var_dic_list()) "
    }
   },
   "types_to_exclude": [
    "module",
    "function",
    "builtin_function_or_method",
    "instance",
    "_Feature"
   ],
   "window_display": false
  }
 },
 "nbformat": 4,
 "nbformat_minor": 2
}
